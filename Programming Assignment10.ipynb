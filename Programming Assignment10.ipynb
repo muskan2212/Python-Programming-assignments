{
 "cells": [
  {
   "cell_type": "markdown",
   "id": "a6e535a0",
   "metadata": {},
   "source": [
    "# Python Programming assignment 10"
   ]
  },
  {
   "cell_type": "markdown",
   "id": "d4fdc1a0",
   "metadata": {},
   "source": [
    "1. Write a Python program to find sum of elements in list?"
   ]
  },
  {
   "cell_type": "code",
   "execution_count": 2,
   "id": "98e7bc32",
   "metadata": {},
   "outputs": [
    {
     "name": "stdout",
     "output_type": "stream",
     "text": [
      "33\n"
     ]
    }
   ],
   "source": [
    "l = [1,2,3,4,5,5,6,7]\n",
    "sum=0\n",
    "for i in l:\n",
    "    sum = sum+i\n",
    "print(sum)"
   ]
  },
  {
   "cell_type": "markdown",
   "id": "7df40db7",
   "metadata": {},
   "source": [
    "2. Write a Python program to Multiply all numbers in the list?"
   ]
  },
  {
   "cell_type": "code",
   "execution_count": 6,
   "id": "c012abda",
   "metadata": {},
   "outputs": [
    {
     "name": "stdout",
     "output_type": "stream",
     "text": [
      "0\n"
     ]
    }
   ],
   "source": [
    "l = [1,2,3,0,5,5,6,7]\n",
    "mul=1\n",
    "for i in l:\n",
    "    mul = mul*i\n",
    "print(mul)"
   ]
  },
  {
   "cell_type": "markdown",
   "id": "f38f84ce",
   "metadata": {},
   "source": [
    "3. Write a Python program to find smallest number in a list?\n"
   ]
  },
  {
   "cell_type": "code",
   "execution_count": 7,
   "id": "271ab8b3",
   "metadata": {},
   "outputs": [
    {
     "data": {
      "text/plain": [
       "0"
      ]
     },
     "execution_count": 7,
     "metadata": {},
     "output_type": "execute_result"
    }
   ],
   "source": [
    "l = [1,2,3,0,5,5,6,7]\n",
    "min(l)"
   ]
  },
  {
   "cell_type": "markdown",
   "id": "5ce7778e",
   "metadata": {},
   "source": [
    "4. Write a Python program to find largest number in a list?\n"
   ]
  },
  {
   "cell_type": "code",
   "execution_count": 8,
   "id": "7ba91f88",
   "metadata": {},
   "outputs": [
    {
     "data": {
      "text/plain": [
       "7"
      ]
     },
     "execution_count": 8,
     "metadata": {},
     "output_type": "execute_result"
    }
   ],
   "source": [
    "l = [1,2,3,0,5,5,6,7]\n",
    "max(l)"
   ]
  },
  {
   "cell_type": "markdown",
   "id": "1eddc1d3",
   "metadata": {},
   "source": [
    "5. Write a Python program to find second largest number in a list?"
   ]
  },
  {
   "cell_type": "code",
   "execution_count": 53,
   "id": "68a7cddc",
   "metadata": {},
   "outputs": [
    {
     "data": {
      "text/plain": [
       "6"
      ]
     },
     "execution_count": 53,
     "metadata": {},
     "output_type": "execute_result"
    }
   ],
   "source": [
    "l = [1,2,3,0,5,6,7]\n",
    "s =max(l)\n",
    "l.remove(s)\n",
    "max(l)"
   ]
  },
  {
   "cell_type": "markdown",
   "id": "23e2eb54",
   "metadata": {},
   "source": [
    "6. Write a Python program to find N largest elements from a list?"
   ]
  },
  {
   "cell_type": "code",
   "execution_count": 9,
   "id": "b2992224",
   "metadata": {},
   "outputs": [],
   "source": [
    "li = [34,23,6,24,69,23,19]\n",
    "def nth_large(list1,n):\n",
    "    for i in range(len(list1)):\n",
    "        for j in range(i,len(list1)):\n",
    "            if list1[i]>list1[j]:\n",
    "                list1[i],list1[j]=list1[j],list1[i]\n",
    "    \n",
    "    return list1[-n]\n"
   ]
  },
  {
   "cell_type": "code",
   "execution_count": 10,
   "id": "57d2e8d0",
   "metadata": {},
   "outputs": [
    {
     "name": "stdout",
     "output_type": "stream",
     "text": [
      "3\n"
     ]
    },
    {
     "data": {
      "text/plain": [
       "46"
      ]
     },
     "execution_count": 10,
     "metadata": {},
     "output_type": "execute_result"
    }
   ],
   "source": [
    "n = int(input())\n",
    "list2 = [45,23,46,79,78]\n",
    "nth_large(list2,n)"
   ]
  },
  {
   "cell_type": "markdown",
   "id": "534f5a9d",
   "metadata": {},
   "source": [
    "7. Write a Python program to print even numbers in a list?"
   ]
  },
  {
   "cell_type": "code",
   "execution_count": 28,
   "id": "f0b3d671",
   "metadata": {},
   "outputs": [
    {
     "name": "stdout",
     "output_type": "stream",
     "text": [
      "46\n",
      "78\n"
     ]
    }
   ],
   "source": [
    "list2 = [45,23,46,79,78]\n",
    "for i in list2:\n",
    "    if i%2==0:\n",
    "        print(i)"
   ]
  },
  {
   "cell_type": "markdown",
   "id": "8e71337c",
   "metadata": {},
   "source": [
    "8. Write a Python program to print odd numbers in a List?"
   ]
  },
  {
   "cell_type": "code",
   "execution_count": 29,
   "id": "f6a5a3eb",
   "metadata": {},
   "outputs": [
    {
     "name": "stdout",
     "output_type": "stream",
     "text": [
      "45\n",
      "23\n",
      "79\n"
     ]
    }
   ],
   "source": [
    "list2 = [45,23,46,79,78]\n",
    "for i in list2:\n",
    "    if i%2==1:\n",
    "        print(i)"
   ]
  },
  {
   "cell_type": "markdown",
   "id": "d77964ed",
   "metadata": {},
   "source": [
    "9. Write a Python program to Remove empty List from List?"
   ]
  },
  {
   "cell_type": "code",
   "execution_count": 31,
   "id": "da073c9b",
   "metadata": {},
   "outputs": [],
   "source": [
    "lis1 = [2,3,5,[],[6,3],[]]\n",
    "for i in lis1:\n",
    "    if type(i) == list and len(i)==0:\n",
    "        lis1.remove(i)\n",
    "        "
   ]
  },
  {
   "cell_type": "code",
   "execution_count": 32,
   "id": "12efdfd0",
   "metadata": {},
   "outputs": [
    {
     "data": {
      "text/plain": [
       "[2, 3, 5, [6, 3]]"
      ]
     },
     "execution_count": 32,
     "metadata": {},
     "output_type": "execute_result"
    }
   ],
   "source": [
    "lis1"
   ]
  },
  {
   "cell_type": "markdown",
   "id": "adee2847",
   "metadata": {},
   "source": [
    "10. Write a Python program to Cloning or Copying a list?"
   ]
  },
  {
   "cell_type": "code",
   "execution_count": 35,
   "id": "1e44aea3",
   "metadata": {},
   "outputs": [
    {
     "data": {
      "text/plain": [
       "[1, 2, 3, 3, 4, 5]"
      ]
     },
     "execution_count": 35,
     "metadata": {},
     "output_type": "execute_result"
    }
   ],
   "source": [
    "#cloning\n",
    "l1 = [1,2,3]\n",
    "l2 = [3,4,5]\n",
    "l1.extend(l2)\n",
    "l1"
   ]
  },
  {
   "cell_type": "code",
   "execution_count": 36,
   "id": "366935d1",
   "metadata": {},
   "outputs": [
    {
     "data": {
      "text/plain": [
       "[1, 2, 3, 3, 4, 5]"
      ]
     },
     "execution_count": 36,
     "metadata": {},
     "output_type": "execute_result"
    }
   ],
   "source": [
    "#copy\n",
    "l3=l1.copy()\n",
    "l3"
   ]
  },
  {
   "cell_type": "markdown",
   "id": "6135dee2",
   "metadata": {},
   "source": [
    "11. Write a Python program to Count occurrences of an element in a list?"
   ]
  },
  {
   "cell_type": "code",
   "execution_count": 42,
   "id": "a9eeb765",
   "metadata": {},
   "outputs": [
    {
     "data": {
      "text/plain": [
       "{1: 5, 2: 6, 4: 2, 3: 4}"
      ]
     },
     "execution_count": 42,
     "metadata": {},
     "output_type": "execute_result"
    }
   ],
   "source": [
    "l12 = [1,2,4,1,3,2,4,2,3,1,1,2,2,1,2,3]\n",
    "dict1 ={}\n",
    "\n",
    "for i in l12:\n",
    "    k=1\n",
    "    for j in l12[i:]:\n",
    "        if i==j:\n",
    "            k=k+1\n",
    "    \n",
    "    dict1[i] = k\n",
    "dict1    "
   ]
  },
  {
   "cell_type": "code",
   "execution_count": 40,
   "id": "183b99d8",
   "metadata": {},
   "outputs": [
    {
     "data": {
      "text/plain": [
       "{0}"
      ]
     },
     "execution_count": 40,
     "metadata": {},
     "output_type": "execute_result"
    }
   ],
   "source": [
    "l = {0}\n",
    "l"
   ]
  },
  {
   "cell_type": "code",
   "execution_count": null,
   "id": "b395559e",
   "metadata": {},
   "outputs": [],
   "source": []
  }
 ],
 "metadata": {
  "kernelspec": {
   "display_name": "Python 3 (ipykernel)",
   "language": "python",
   "name": "python3"
  },
  "language_info": {
   "codemirror_mode": {
    "name": "ipython",
    "version": 3
   },
   "file_extension": ".py",
   "mimetype": "text/x-python",
   "name": "python",
   "nbconvert_exporter": "python",
   "pygments_lexer": "ipython3",
   "version": "3.9.13"
  }
 },
 "nbformat": 4,
 "nbformat_minor": 5
}
