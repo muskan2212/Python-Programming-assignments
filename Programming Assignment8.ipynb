{
 "cells": [
  {
   "cell_type": "markdown",
   "metadata": {},
   "source": [
    "# Python Programming assignment 8"
   ]
  },
  {
   "cell_type": "markdown",
   "metadata": {},
   "source": [
    "1. Write a Python Program to Add Two Matrices?"
   ]
  },
  {
   "cell_type": "code",
   "execution_count": 36,
   "metadata": {},
   "outputs": [
    {
     "name": "stdout",
     "output_type": "stream",
     "text": [
      "[6, 8, 10]\n",
      "[8, 10, 12]\n",
      "[10, 12, 14]\n"
     ]
    }
   ],
   "source": [
    "a=[[1,2,3],\n",
    "   [2,3,4],\n",
    "   [3,4,5]]\n",
    "b=[[5,6,7],\n",
    "   [6,7,8],\n",
    "   [7,8,9]]\n",
    "c=[[0,0,0],\n",
    "   [0,0,0],\n",
    "   [0,0,0]]\n",
    "for i in range(len(a)):\n",
    "    for j in range(len(a[0])):\n",
    "        c[i][j] = a[i][j] + b[i][j]\n",
    "        \n",
    "\n",
    "    \n",
    "for i in c:\n",
    "    print(i)"
   ]
  },
  {
   "cell_type": "markdown",
   "metadata": {},
   "source": [
    "2. Write a Python Program to Multiply Two Matrices?"
   ]
  },
  {
   "cell_type": "code",
   "execution_count": 37,
   "metadata": {},
   "outputs": [
    {
     "name": "stdout",
     "output_type": "stream",
     "text": [
      "[5, 12, 21]\n",
      "[12, 21, 32]\n",
      "[21, 32, 45]\n"
     ]
    }
   ],
   "source": [
    "a=[[1,2,3],\n",
    "   [2,3,4],\n",
    "   [3,4,5]]\n",
    "b=[[5,6,7],\n",
    "   [6,7,8],\n",
    "   [7,8,9]]\n",
    "c=[[0,0,0],\n",
    "   [0,0,0],\n",
    "   [0,0,0]]\n",
    "for i in range(len(a)):\n",
    "    for j in range(len(a[0])):\n",
    "        c[i][j] = a[i][j] * b[i][j]\n",
    "        \n",
    "\n",
    "    \n",
    "for i in c:\n",
    "    print(i)"
   ]
  },
  {
   "cell_type": "markdown",
   "metadata": {},
   "source": [
    "3. Write a Python Program to Transpose a Matrix?"
   ]
  },
  {
   "cell_type": "code",
   "execution_count": 45,
   "metadata": {},
   "outputs": [
    {
     "name": "stdout",
     "output_type": "stream",
     "text": [
      "[1, 1, 1]\n",
      "[2, 2, 2]\n",
      "[3, 3, 3]\n"
     ]
    }
   ],
   "source": [
    "a=[[1,2,3],\n",
    "   [1,2,3],\n",
    "   [1,2,3]]\n",
    "c=[[0,0,0],\n",
    "   [0,0,0],\n",
    "   [0,0,0]]\n",
    "for i in range(len(a)):\n",
    "    for j in range(len(a[0])):\n",
    "        c[j][i]=a[i][j]\n",
    "        \n",
    "\n",
    "for i in c:\n",
    "    print(i)   "
   ]
  },
  {
   "cell_type": "markdown",
   "metadata": {},
   "source": [
    "4. Write a Python Program to Sort Words in Alphabetic Order?"
   ]
  },
  {
   "cell_type": "code",
   "execution_count": 68,
   "metadata": {},
   "outputs": [
    {
     "data": {
      "text/plain": [
       "'aabhikmnrstu'"
      ]
     },
     "execution_count": 68,
     "metadata": {},
     "output_type": "execute_result"
    }
   ],
   "source": [
    "import numpy\n",
    "wrrd=\"muskanbharti\"\n",
    "l=list(wrrd)\n",
    "x=numpy.sort(l)\n",
    "\"\".join(x)\n"
   ]
  },
  {
   "cell_type": "markdown",
   "metadata": {},
   "source": [
    "5. Write a Python Program to Remove Punctuation From a String?"
   ]
  },
  {
   "cell_type": "code",
   "execution_count": 104,
   "metadata": {},
   "outputs": [
    {
     "name": "stdout",
     "output_type": "stream",
     "text": [
      " higuysToday.wearegoingtozoo\n"
     ]
    }
   ],
   "source": [
    "st=\"hi guys! Today . we ' are : going to zoo ?\"\n",
    "st2=''' :'';?!@#$%^&*()\"\"[]{}\" ~'''\n",
    "#st1=list(st)\n",
    "\n",
    "s=\" \"\n",
    "for i in st:\n",
    "    if i not in st2:\n",
    "        s+=i\n",
    "    \n",
    "        \n",
    "print(s)"
   ]
  },
  {
   "cell_type": "code",
   "execution_count": null,
   "metadata": {},
   "outputs": [],
   "source": []
  },
  {
   "cell_type": "code",
   "execution_count": null,
   "metadata": {},
   "outputs": [],
   "source": []
  }
 ],
 "metadata": {
  "kernelspec": {
   "display_name": "Python 3",
   "language": "python",
   "name": "python3"
  },
  "language_info": {
   "codemirror_mode": {
    "name": "ipython",
    "version": 3
   },
   "file_extension": ".py",
   "mimetype": "text/x-python",
   "name": "python",
   "nbconvert_exporter": "python",
   "pygments_lexer": "ipython3",
   "version": "3.8.3"
  }
 },
 "nbformat": 4,
 "nbformat_minor": 4
}
