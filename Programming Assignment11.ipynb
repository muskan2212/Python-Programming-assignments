{
 "cells": [
  {
   "cell_type": "markdown",
   "id": "9e096521",
   "metadata": {},
   "source": [
    "# Python Programming assignment 11"
   ]
  },
  {
   "cell_type": "markdown",
   "id": "6f2a9b46",
   "metadata": {},
   "source": [
    "1. Write a Python program to find words which are greater than given length k?"
   ]
  },
  {
   "cell_type": "code",
   "execution_count": 43,
   "id": "45362a5c",
   "metadata": {},
   "outputs": [
    {
     "name": "stdout",
     "output_type": "stream",
     "text": [
      "enter length:4\n",
      "Enter word:weihdweo\n",
      "yes weihdweo\n"
     ]
    }
   ],
   "source": [
    "k = int(input(\"enter length:\"))\n",
    "word = input(\"Enter word:\")\n",
    "if len(word)>k:\n",
    "    print(\"yes\",word)\n",
    "else:\n",
    "    print(\"no\",word)"
   ]
  },
  {
   "cell_type": "markdown",
   "id": "5a16224b",
   "metadata": {},
   "source": [
    "2. Write a Python program for removing i-th character from a string?"
   ]
  },
  {
   "cell_type": "code",
   "execution_count": 61,
   "id": "4da90a70",
   "metadata": {},
   "outputs": [
    {
     "name": "stdout",
     "output_type": "stream",
     "text": [
      "2\n"
     ]
    }
   ],
   "source": [
    "i = int(input())\n",
    "str1 = \"muskakajb\""
   ]
  },
  {
   "cell_type": "code",
   "execution_count": 63,
   "id": "d9a15464",
   "metadata": {},
   "outputs": [
    {
     "data": {
      "text/plain": [
       "'mukakajb'"
      ]
     },
     "execution_count": 63,
     "metadata": {},
     "output_type": "execute_result"
    }
   ],
   "source": [
    "str1.replace(str1[i],\"\")"
   ]
  },
  {
   "cell_type": "markdown",
   "id": "dbe046e6",
   "metadata": {},
   "source": [
    "3. Write a Python program to split and join a string?"
   ]
  },
  {
   "cell_type": "code",
   "execution_count": 70,
   "id": "76748235",
   "metadata": {},
   "outputs": [
    {
     "data": {
      "text/plain": [
       "['muskan', 'lives', 'in', 'kolkata']"
      ]
     },
     "execution_count": 70,
     "metadata": {},
     "output_type": "execute_result"
    }
   ],
   "source": [
    "str2 = \"muskan lives in kolkata\"\n",
    "#split\n",
    "str3 = str2.split()\n",
    "str3"
   ]
  },
  {
   "cell_type": "code",
   "execution_count": 72,
   "id": "b131b36b",
   "metadata": {},
   "outputs": [
    {
     "data": {
      "text/plain": [
       "'muskan lives in kolkata'"
      ]
     },
     "execution_count": 72,
     "metadata": {},
     "output_type": "execute_result"
    }
   ],
   "source": [
    "#join\n",
    "' '.join(str3)"
   ]
  },
  {
   "cell_type": "markdown",
   "id": "8ec2f8e7",
   "metadata": {},
   "source": [
    "4. Write a Python to check if a given string is binary string or not?"
   ]
  },
  {
   "cell_type": "code",
   "execution_count": 75,
   "id": "5605a793",
   "metadata": {},
   "outputs": [
    {
     "name": "stdout",
     "output_type": "stream",
     "text": [
      "binary\n"
     ]
    }
   ],
   "source": [
    "c= \"00011110101010\"\n",
    "if set(c)=={'0','1'} or set(c)=={'1','0'} or set(c)=={'0'} or set(c) =={'1'}:\n",
    "    print(\"binary\")\n",
    "else:\n",
    "    print(\"not binary\")"
   ]
  },
  {
   "cell_type": "markdown",
   "id": "838314ae",
   "metadata": {},
   "source": [
    "5. Write a Python program to find uncommon words from two Strings?"
   ]
  },
  {
   "cell_type": "code",
   "execution_count": 104,
   "id": "9d81676d",
   "metadata": {},
   "outputs": [],
   "source": [
    "str1 = \"one two three four\"\n",
    "str2 = \"three four five six\"\n",
    "str1 = str3 = str1.split()\n",
    "str2 = str2.split()"
   ]
  },
  {
   "cell_type": "code",
   "execution_count": 109,
   "id": "24d8d83b",
   "metadata": {},
   "outputs": [
    {
     "data": {
      "text/plain": [
       "['one', 'two', 'five', 'six']"
      ]
     },
     "execution_count": 109,
     "metadata": {},
     "output_type": "execute_result"
    }
   ],
   "source": [
    "a =[]\n",
    "for i in str1:\n",
    "    if i not in str2:\n",
    "        a.append(i)\n",
    "        \n",
    "for i in str2:\n",
    "    if i not in str1:\n",
    "        a.append(i)\n",
    "a"
   ]
  },
  {
   "cell_type": "markdown",
   "id": "1b577aaa",
   "metadata": {},
   "source": [
    "6. Write a Python to find all duplicate characters in string?"
   ]
  },
  {
   "cell_type": "code",
   "execution_count": 126,
   "id": "71d5870b",
   "metadata": {},
   "outputs": [],
   "source": [
    "st1 = \"this is can or this is dog\"\n",
    "lt1 = st1.split()"
   ]
  },
  {
   "cell_type": "code",
   "execution_count": 128,
   "id": "862bf97a",
   "metadata": {},
   "outputs": [
    {
     "data": {
      "text/plain": [
       "['this', 'is']"
      ]
     },
     "execution_count": 128,
     "metadata": {},
     "output_type": "execute_result"
    }
   ],
   "source": [
    "dp =[]\n",
    "for i in range(len(lt1)):\n",
    "    for j in range(i+1,len(lt1)):\n",
    "        if lt1[i]==lt1[j]:\n",
    "            dp.append(lt1[i])\n",
    "            \n",
    "dp"
   ]
  },
  {
   "cell_type": "markdown",
   "id": "5caae5d2",
   "metadata": {},
   "source": [
    "7. Write a Python Program to check if a string contains any special character?"
   ]
  },
  {
   "cell_type": "code",
   "execution_count": 140,
   "id": "e4799c41",
   "metadata": {},
   "outputs": [],
   "source": [
    "st3 = \"mudkjfjha@$^\"\n",
    "spc = ['!','@','#','$','%','^','&','*','?']\n",
    "\n",
    "s = []\n",
    "for i in range(len(st3)):\n",
    "    if st3[i] in spc:\n",
    "        s.append(st3[i])"
   ]
  },
  {
   "cell_type": "code",
   "execution_count": 141,
   "id": "cfc5df1f",
   "metadata": {},
   "outputs": [
    {
     "data": {
      "text/plain": [
       "['@', '$', '^']"
      ]
     },
     "execution_count": 141,
     "metadata": {},
     "output_type": "execute_result"
    }
   ],
   "source": [
    "s"
   ]
  },
  {
   "cell_type": "code",
   "execution_count": null,
   "id": "0142b3bf",
   "metadata": {},
   "outputs": [],
   "source": []
  }
 ],
 "metadata": {
  "kernelspec": {
   "display_name": "Python 3 (ipykernel)",
   "language": "python",
   "name": "python3"
  },
  "language_info": {
   "codemirror_mode": {
    "name": "ipython",
    "version": 3
   },
   "file_extension": ".py",
   "mimetype": "text/x-python",
   "name": "python",
   "nbconvert_exporter": "python",
   "pygments_lexer": "ipython3",
   "version": "3.9.13"
  }
 },
 "nbformat": 4,
 "nbformat_minor": 5
}
