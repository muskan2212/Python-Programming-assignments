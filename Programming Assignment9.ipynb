{
 "cells": [
  {
   "cell_type": "markdown",
   "id": "e659c493",
   "metadata": {},
   "source": [
    "## Python Programming Assignment"
   ]
  },
  {
   "cell_type": "markdown",
   "id": "7ecb9496",
   "metadata": {},
   "source": [
    " 1. Write a Python program to check if the given number is a Disarium Number?"
   ]
  },
  {
   "cell_type": "code",
   "execution_count": 1,
   "id": "765f7293",
   "metadata": {},
   "outputs": [
    {
     "name": "stdout",
     "output_type": "stream",
     "text": [
      "Enter a number:89\n",
      "2\n",
      "89\n"
     ]
    }
   ],
   "source": [
    "\n",
    "n=int(input(\"Enter a number:\"))\n",
    "l=len(str(n))\n",
    "# print(l)\n",
    "y=0\n",
    "while n!=0:\n",
    "    x=n%10\n",
    "    y=y+pow(x,l)\n",
    "    l=l-1\n",
    "    n=n//10\n",
    "\n",
    "if y==n:\n",
    "    print(\"yes Disarium Number\")\n",
    "else:\n",
    "    print('No its not Disarium Number')"
   ]
  },
  {
   "cell_type": "markdown",
   "id": "c7682083",
   "metadata": {},
   "source": [
    "2. Write a Python program to print all disarium numbers between 1 to 100?"
   ]
  },
  {
   "cell_type": "code",
   "execution_count": 1,
   "id": "a6ed35ef",
   "metadata": {},
   "outputs": [
    {
     "name": "stdout",
     "output_type": "stream",
     "text": [
      "[1, 2, 3, 4, 5, 6, 7, 8, 9, 89] 10\n"
     ]
    }
   ],
   "source": [
    "\n",
    "c=0\n",
    "list1 = []\n",
    "for n in range(1,101):\n",
    "    l=len(str(n))\n",
    "    m=n\n",
    "    y=0\n",
    "    while n!=0:\n",
    "        x=n%10\n",
    "        y=y+pow(x,l)\n",
    "        l=l-1\n",
    "        n=n//10\n",
    "\n",
    "    if y==m:\n",
    "        list1.append(y)\n",
    "        c=c+1\n",
    "print(list1,c)    "
   ]
  },
  {
   "cell_type": "markdown",
   "id": "8da4ec4d",
   "metadata": {},
   "source": [
    "3. Write a Python program to check if the given number is Happy Number?"
   ]
  },
  {
   "cell_type": "code",
   "execution_count": 2,
   "id": "037bb9ef",
   "metadata": {},
   "outputs": [],
   "source": [
    "\n",
    "def happy(n):\n",
    "    hp = []\n",
    "    while n!=0:\n",
    "        sum =0\n",
    "        sum = sum + pow(n%10,2)\n",
    "        n=n//10\n",
    "    if sum == 1:\n",
    "        print(\"happy number\")\n",
    "    elif sum in hp:\n",
    "        print(\"not happy number\")\n",
    "    else:\n",
    "        hp.append(sum)\n",
    "        happy(sum)\n",
    "   "
   ]
  },
  {
   "cell_type": "code",
   "execution_count": 3,
   "id": "8003dd5d",
   "metadata": {},
   "outputs": [
    {
     "name": "stdout",
     "output_type": "stream",
     "text": [
      "happy number\n"
     ]
    }
   ],
   "source": [
    "happy(19)"
   ]
  },
  {
   "cell_type": "markdown",
   "id": "b5e38bcc",
   "metadata": {},
   "source": [
    "4. Write a Python program to print all happy numbers between 1 and 100?"
   ]
  },
  {
   "cell_type": "code",
   "execution_count": null,
   "id": "7fc3a731",
   "metadata": {},
   "outputs": [],
   "source": [
    "\n",
    "def happy(n):\n",
    "    hp = []\n",
    "    while n!=0:\n",
    "        sum =0\n",
    "        sum = sum + pow(n%10,2)\n",
    "        n=n//10\n",
    "    if sum == 1:\n",
    "        print(\"happy number\")\n",
    "        return True\n",
    "    elif sum in hp:\n",
    "        print(\"not happy number\")\n",
    "        return False\n",
    "    else:\n",
    "        hp.append(sum)\n",
    "        happy(sum)\n",
    "        \n",
    "for i in range(1,101):\n",
    "    happy(i)"
   ]
  },
  {
   "cell_type": "markdown",
   "id": "e860ae29",
   "metadata": {},
   "source": [
    "5. Write a Python program to determine whether the given number is a Harshad Number?"
   ]
  },
  {
   "cell_type": "code",
   "execution_count": 3,
   "id": "66216b48",
   "metadata": {},
   "outputs": [
    {
     "name": "stdout",
     "output_type": "stream",
     "text": [
      "18\n",
      "Harshad number\n"
     ]
    }
   ],
   "source": [
    "\n",
    "n=int(input())\n",
    "m=n\n",
    "sum=0\n",
    "while n!=0:\n",
    "    x=n%10\n",
    "    sum=sum+x;\n",
    "    n=n//10\n",
    "if m%sum==0:\n",
    "    print(\"Harshad number\")\n",
    "    \n",
    "else:\n",
    "    print(\"not harashed number\")"
   ]
  },
  {
   "cell_type": "markdown",
   "id": "ef4a69af",
   "metadata": {},
   "source": [
    "6. Write a Python program to print all pronic numbers between 1 and 100?"
   ]
  },
  {
   "cell_type": "code",
   "execution_count": 8,
   "id": "05697058",
   "metadata": {},
   "outputs": [
    {
     "name": "stdout",
     "output_type": "stream",
     "text": [
      "2\n",
      "6\n",
      "12\n",
      "20\n",
      "30\n",
      "42\n",
      "56\n",
      "72\n",
      "90\n"
     ]
    }
   ],
   "source": [
    "\n",
    "import math\n",
    "for n in range(1,100):\n",
    "    if n == int(math.sqrt(n))*int((math.sqrt(n))+1):\n",
    "        print(n)"
   ]
  },
  {
   "cell_type": "code",
   "execution_count": null,
   "id": "ba77cbe1",
   "metadata": {},
   "outputs": [],
   "source": []
  }
 ],
 "metadata": {
  "kernelspec": {
   "display_name": "Python 3 (ipykernel)",
   "language": "python",
   "name": "python3"
  },
  "language_info": {
   "codemirror_mode": {
    "name": "ipython",
    "version": 3
   },
   "file_extension": ".py",
   "mimetype": "text/x-python",
   "name": "python",
   "nbconvert_exporter": "python",
   "pygments_lexer": "ipython3",
   "version": "3.9.13"
  }
 },
 "nbformat": 4,
 "nbformat_minor": 5
}
